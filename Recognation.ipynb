{
 "cells": [
  {
   "cell_type": "code",
   "execution_count": 2,
   "metadata": {},
   "outputs": [],
   "source": [
    "import numpy as np\n",
    "import cv2\n",
    "import pickle"
   ]
  },
  {
   "cell_type": "code",
   "execution_count": 3,
   "metadata": {},
   "outputs": [],
   "source": [
    "frameWidth= 640         # CAMERA RESOLUTION\n",
    "frameHeight = 480\n",
    "brightness = 180\n",
    "threshold = 0.75     # PROBABLITY THRESHOLD\n",
    "font = cv2.FONT_HERSHEY_SIMPLEX"
   ]
  },
  {
   "cell_type": "code",
   "execution_count": 4,
   "metadata": {},
   "outputs": [
    {
     "data": {
      "text/plain": [
       "False"
      ]
     },
     "execution_count": 4,
     "metadata": {},
     "output_type": "execute_result"
    }
   ],
   "source": [
    "cap = cv2.VideoCapture(0)\n",
    "cap.set(3, frameWidth)\n",
    "cap.set(4, frameHeight)\n",
    "cap.set(10, brightness)"
   ]
  },
  {
   "cell_type": "code",
   "execution_count": 5,
   "metadata": {},
   "outputs": [],
   "source": [
    "from tensorflow import keras\n",
    "my_model = keras.models.load_model(\"My_model\")\n",
    "my_model.load_weights(\"output.h5\")"
   ]
  },
  {
   "cell_type": "code",
   "execution_count": 6,
   "metadata": {},
   "outputs": [],
   "source": [
    "def grayscale(img):\n",
    "    img = cv2.cvtColor(img,cv2.COLOR_BGR2GRAY)\n",
    "    return img\n",
    "\n",
    "def equalize(img):\n",
    "    img=cv2.equalizeHist(img)\n",
    "    return img\n",
    "\n",
    "def preprocessing(img):\n",
    "    \n",
    "    img=grayscale(img)\n",
    "    img=equalize(img)\n",
    "    img=img/255\n",
    "    \n",
    "    return img\n",
    "\n",
    "def getCalssName(classNo):\n",
    "    \n",
    "    if   classNo == 0: \n",
    "        return 'Speed Limit 20 km/h'\n",
    "    elif classNo == 1: \n",
    "        return 'Speed Limit 30 km/h'\n",
    "    elif classNo == 2:\n",
    "        return 'Speed Limit 50 km/h'\n",
    "    elif classNo == 3:\n",
    "        return 'Speed Limit 60 km/h'\n",
    "    elif classNo == 4:\n",
    "        return 'Speed Limit 70 km/h'\n",
    "    elif classNo == 5:\n",
    "        return 'Speed Limit 80 km/h'\n",
    "    elif classNo == 6: \n",
    "        return 'End of Speed Limit 80 km/h'\n",
    "    elif classNo == 7: \n",
    "        return 'Speed Limit 100 km/h'\n",
    "    elif classNo == 8: \n",
    "        return 'Speed Limit 120 km/h'\n",
    "    elif classNo == 9: \n",
    "        return 'No passing'\n",
    "    elif classNo == 10: \n",
    "        return 'No passing for vechiles over 3.5 metric tons'\n",
    "    elif classNo == 11: \n",
    "        return 'Right-of-way at the next intersection'\n",
    "    elif classNo == 12: \n",
    "        return 'Priority road'\n",
    "    elif classNo == 13: \n",
    "        return 'Yield'\n",
    "    elif classNo == 14: \n",
    "        return 'Stop'\n",
    "    elif classNo == 15: \n",
    "        return 'No vechiles'\n",
    "    elif classNo == 16: \n",
    "        return 'Vechiles over 3.5 metric tons prohibited'\n",
    "    elif classNo == 17: \n",
    "        return 'No entry'\n",
    "    elif classNo == 18: \n",
    "        return 'General caution'\n",
    "    elif classNo == 19: \n",
    "        return 'Dangerous curve to the left'\n",
    "    elif classNo == 20: \n",
    "        return 'Dangerous curve to the right'\n",
    "    elif classNo == 21: \n",
    "        return 'Double curve'\n",
    "    elif classNo == 22: \n",
    "        return 'Bumpy road'\n",
    "    elif classNo == 23: \n",
    "        return 'Slippery road'\n",
    "    elif classNo == 24: \n",
    "        return 'Road narrows on the right'\n",
    "    elif classNo == 25: \n",
    "        return 'Road work'\n",
    "    elif classNo == 26: \n",
    "        return 'Traffic signals'\n",
    "    elif classNo == 27: \n",
    "        return 'Pedestrians'\n",
    "    elif classNo == 28: \n",
    "        return 'Children crossing'\n",
    "    elif classNo == 29: \n",
    "        return 'Bicycles crossing'\n",
    "    elif classNo == 30: \n",
    "        return 'Beware of ice/snow'\n",
    "    elif classNo == 31: \n",
    "        return 'Wild animals crossing'\n",
    "    elif classNo == 32: \n",
    "        return 'End of all speed and passing limits'\n",
    "    elif classNo == 33: \n",
    "        return 'Turn right ahead'\n",
    "    elif classNo == 34: \n",
    "        return 'Turn left ahead'\n",
    "    elif classNo == 35: \n",
    "        return 'Ahead only'\n",
    "    elif classNo == 36: \n",
    "        return 'Go straight or right'\n",
    "    elif classNo == 37: \n",
    "        return 'Go straight or left'\n",
    "    elif classNo == 38: \n",
    "        return 'Keep right'\n",
    "    elif classNo == 39: \n",
    "        return 'Keep left'\n",
    "    elif classNo == 40: \n",
    "        return 'Roundabout mandatory'\n",
    "    elif classNo == 41: \n",
    "        return 'End of no passing'\n",
    "    elif classNo == 42: \n",
    "        return 'End of no passing by vechiles over 3.5 metric tons'"
   ]
  },
  {
   "cell_type": "code",
   "execution_count": 10,
   "metadata": {},
   "outputs": [
    {
     "name": "stdout",
     "output_type": "stream",
     "text": [
      "1/1 [==============================] - 0s 41ms/step\n",
      "1/1 [==============================] - 0s 207ms/step\n"
     ]
    },
    {
     "ename": "ValueError",
     "evalue": "The truth value of an array with more than one element is ambiguous. Use a.any() or a.all()",
     "output_type": "error",
     "traceback": [
      "\u001b[1;31m---------------------------------------------------------------------------\u001b[0m",
      "\u001b[1;31mValueError\u001b[0m                                Traceback (most recent call last)",
      "Cell \u001b[1;32mIn[10], line 22\u001b[0m\n\u001b[0;32m     17\u001b[0m probabilityValue \u001b[38;5;241m=\u001b[39mnp\u001b[38;5;241m.\u001b[39mamax(predictions)\n\u001b[0;32m     20\u001b[0m \u001b[38;5;28;01mif\u001b[39;00m probabilityValue \u001b[38;5;241m>\u001b[39m threshold:\n\u001b[0;32m     21\u001b[0m     \u001b[38;5;66;03m#print(getCalssName(classIndex))\u001b[39;00m\n\u001b[1;32m---> 22\u001b[0m     cv2\u001b[38;5;241m.\u001b[39mputText(imgOrignal,\u001b[38;5;28mstr\u001b[39m(classIndex)\u001b[38;5;241m+\u001b[39m\u001b[38;5;124m\"\u001b[39m\u001b[38;5;124m \u001b[39m\u001b[38;5;124m\"\u001b[39m\u001b[38;5;241m+\u001b[39m\u001b[38;5;28mstr\u001b[39m(\u001b[43mgetCalssName\u001b[49m\u001b[43m(\u001b[49m\u001b[43mclassIndex\u001b[49m\u001b[43m)\u001b[49m), (\u001b[38;5;241m120\u001b[39m, \u001b[38;5;241m35\u001b[39m), font, \u001b[38;5;241m0.75\u001b[39m, (\u001b[38;5;241m0\u001b[39m, \u001b[38;5;241m0\u001b[39m, \u001b[38;5;241m255\u001b[39m), \u001b[38;5;241m2\u001b[39m, cv2\u001b[38;5;241m.\u001b[39mLINE_AA)\n\u001b[0;32m     23\u001b[0m     cv2\u001b[38;5;241m.\u001b[39mputText(imgOrignal, \u001b[38;5;28mstr\u001b[39m(\u001b[38;5;28mround\u001b[39m(probabilityValue\u001b[38;5;241m*\u001b[39m\u001b[38;5;241m100\u001b[39m,\u001b[38;5;241m2\u001b[39m) )\u001b[38;5;241m+\u001b[39m\u001b[38;5;124m\"\u001b[39m\u001b[38;5;124m%\u001b[39m\u001b[38;5;124m\"\u001b[39m, (\u001b[38;5;241m180\u001b[39m, \u001b[38;5;241m75\u001b[39m), font, \u001b[38;5;241m0.75\u001b[39m, (\u001b[38;5;241m0\u001b[39m, \u001b[38;5;241m0\u001b[39m, \u001b[38;5;241m255\u001b[39m), \u001b[38;5;241m2\u001b[39m, cv2\u001b[38;5;241m.\u001b[39mLINE_AA)\n\u001b[0;32m     24\u001b[0m cv2\u001b[38;5;241m.\u001b[39mimshow(\u001b[38;5;124m\"\u001b[39m\u001b[38;5;124mResult\u001b[39m\u001b[38;5;124m\"\u001b[39m, imgOrignal)\n",
      "Cell \u001b[1;32mIn[6], line 19\u001b[0m, in \u001b[0;36mgetCalssName\u001b[1;34m(classNo)\u001b[0m\n\u001b[0;32m     17\u001b[0m \u001b[38;5;28;01mdef\u001b[39;00m \u001b[38;5;21mgetCalssName\u001b[39m(classNo):\n\u001b[1;32m---> 19\u001b[0m     \u001b[38;5;28;01mif\u001b[39;00m   \u001b[43mclassNo\u001b[49m\u001b[43m \u001b[49m\u001b[38;5;241;43m==\u001b[39;49m\u001b[43m \u001b[49m\u001b[38;5;241;43m0\u001b[39;49m: \n\u001b[0;32m     20\u001b[0m         \u001b[38;5;28;01mreturn\u001b[39;00m \u001b[38;5;124m'\u001b[39m\u001b[38;5;124mSpeed Limit 20 km/h\u001b[39m\u001b[38;5;124m'\u001b[39m\n\u001b[0;32m     21\u001b[0m     \u001b[38;5;28;01melif\u001b[39;00m classNo \u001b[38;5;241m==\u001b[39m \u001b[38;5;241m1\u001b[39m: \n",
      "\u001b[1;31mValueError\u001b[0m: The truth value of an array with more than one element is ambiguous. Use a.any() or a.all()"
     ]
    }
   ],
   "source": [
    "while True:\n",
    "    \n",
    "    success, imgOrignal = cap.read()\n",
    "\n",
    "    # PROCESS IMAGE\n",
    "    img = np.asarray(imgOrignal)\n",
    "    img = cv2.resize(img, (32, 32))\n",
    "    img = preprocessing(img)\n",
    "    cv2.imshow(\"Processed Image\", img)\n",
    "    img = img.reshape(1, 32, 32, 1)\n",
    "    cv2.putText(imgOrignal, \"TRAFFIC SIGN: \" , (20, 35), font, 0.75, (0, 0, 255), 2, cv2.LINE_AA)\n",
    "    cv2.putText(imgOrignal, \"PROBABILITY: \", (20, 75), font, 0.75, (0, 0, 255), 2, cv2.LINE_AA)\n",
    "    \n",
    "    # PREDICT IMAGE\n",
    "    predictions = my_model.predict(img)\n",
    "    classIndex = my_model.predict(img)\n",
    "    probabilityValue =np.amax(predictions)\n",
    "    \n",
    "    \n",
    "    if probabilityValue > threshold:\n",
    "        #print(getCalssName(classIndex))\n",
    "        cv2.putText(imgOrignal,str(classIndex)+\" \"+str(getCalssName(classIndex)), (120, 35), font, 0.75, (0, 0, 255), 2, cv2.LINE_AA)\n",
    "        cv2.putText(imgOrignal, str(round(probabilityValue*100,2) )+\"%\", (180, 75), font, 0.75, (0, 0, 255), 2, cv2.LINE_AA)\n",
    "    cv2.imshow(\"Result\", imgOrignal)\n",
    "    \n",
    "    if cv2.waitKey(1) and 0xFF == ord('q'):\n",
    "        break\n",
    "    "
   ]
  },
  {
   "cell_type": "code",
   "execution_count": null,
   "metadata": {},
   "outputs": [],
   "source": []
  }
 ],
 "metadata": {
  "kernelspec": {
   "display_name": "Python 3 (ipykernel)",
   "language": "python",
   "name": "python3"
  },
  "language_info": {
   "codemirror_mode": {
    "name": "ipython",
    "version": 3
   },
   "file_extension": ".py",
   "mimetype": "text/x-python",
   "name": "python",
   "nbconvert_exporter": "python",
   "pygments_lexer": "ipython3",
   "version": "3.9.18"
  }
 },
 "nbformat": 4,
 "nbformat_minor": 4
}
